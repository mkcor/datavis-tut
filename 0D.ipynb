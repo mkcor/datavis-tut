{
 "cells": [
  {
   "cell_type": "markdown",
   "metadata": {},
   "source": [
    "# Best practices in data visualization"
   ]
  },
  {
   "cell_type": "markdown",
   "metadata": {},
   "source": [
    "- [Visualizing 1D data](1D.ipynb)\n",
    "- [Visualizing 2D data](2D.ipynb)\n",
    "- [Visualizing 3D data](3D.ipynb)"
   ]
  },
  {
   "cell_type": "markdown",
   "metadata": {},
   "source": [
    "The data used in the first two notebooks ([Visualizing 1D data](1D.ipynb) and [Visualizing 2D data](2D.ipynb)) was very kindly provided by Hélène Seiler, from the [Kambhampati Group](http://kambhampati-group.mcgill.ca/) (McGill University, Montreal, Canada)."
   ]
  },
  {
   "cell_type": "markdown",
   "metadata": {},
   "source": [
    "Her PhD work is in ultrafast optical spectroscopy. Below is a picture of her experimental setup. Such a spectrometer is used to study nanocrystals in solution."
   ]
  },
  {
   "cell_type": "markdown",
   "metadata": {},
   "source": [
    "<img src='ultrafast_setup.png'>"
   ]
  },
  {
   "cell_type": "markdown",
   "metadata": {},
   "source": [
    "In the experiment, a light pulse creates a *coherence* between two electronic states. A second light pulse is used to excite electrons in the sample under study. These are the *pump* pulses. A *probe* pulse detects the changes induced by the pumps. If the *emission energy* can be higher than the *excitation energy*, it means that lower-energy states are coupled to higher-energy states."
   ]
  }
 ],
 "metadata": {
  "kernelspec": {
   "display_name": "Python 3",
   "language": "python",
   "name": "python3"
  },
  "language_info": {
   "codemirror_mode": {
    "name": "ipython",
    "version": 3
   },
   "file_extension": ".py",
   "mimetype": "text/x-python",
   "name": "python",
   "nbconvert_exporter": "python",
   "pygments_lexer": "ipython3",
   "version": "3.4.0"
  }
 },
 "nbformat": 4,
 "nbformat_minor": 0
}
